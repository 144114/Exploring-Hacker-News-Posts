{
 "cells": [
  {
   "attachments": {},
   "cell_type": "markdown",
   "metadata": {},
   "source": [
    "Exploring Hacker News Posts"
   ]
  },
  {
   "cell_type": "code",
   "execution_count": 1,
   "metadata": {},
   "outputs": [],
   "source": [
    "from csv import reader"
   ]
  },
  {
   "cell_type": "code",
   "execution_count": 2,
   "metadata": {},
   "outputs": [],
   "source": [
    "def reading(filename):\n",
    "    open_file = open(filename,encoding='utf8')\n",
    "    read_file = reader(open_file)\n",
    "    return list(read_file)\n",
    "\n",
    "def manage_column(dataset):\n",
    "    return dataset[0],dataset[1:]\n",
    "\n",
    "def explore_data(dataset,col_name,data_range=3):\n",
    "    print(\"Column name\")\n",
    "    print(col_name)\n",
    "    print(\"Dataset\")\n",
    "    for i in range(data_range):\n",
    "        print(dataset[i])\n",
    "    print(f\"Number of rows {len(dataset)} Number of Column {len(col_name)}\")"
   ]
  },
  {
   "cell_type": "code",
   "execution_count": 3,
   "metadata": {},
   "outputs": [],
   "source": [
    "hn = reading(\"HN_posts_year_to_Sep_26_2016.csv\")"
   ]
  },
  {
   "cell_type": "code",
   "execution_count": 4,
   "metadata": {},
   "outputs": [],
   "source": [
    "hn_col,hn_data = manage_column(hn)"
   ]
  },
  {
   "cell_type": "code",
   "execution_count": 5,
   "metadata": {},
   "outputs": [
    {
     "name": "stdout",
     "output_type": "stream",
     "text": [
      "Column name\n",
      "['id', 'title', 'url', 'num_points', 'num_comments', 'author', 'created_at']\n",
      "Dataset\n",
      "['12579008', 'You have two days to comment if you want stem cells to be classified as your own', 'http://www.regulations.gov/document?D=FDA-2015-D-3719-0018', '1', '0', 'altstar', '9/26/2016 3:26']\n",
      "['12579005', 'SQLAR  the SQLite Archiver', 'https://www.sqlite.org/sqlar/doc/trunk/README.md', '1', '0', 'blacksqr', '9/26/2016 3:24']\n",
      "['12578997', 'What if we just printed a flatscreen television on the side of our boxes?', 'https://medium.com/vanmoof/our-secrets-out-f21c1f03fdc8#.ietxmez43', '1', '0', 'pavel_lishin', '9/26/2016 3:19']\n",
      "['12578989', 'algorithmic music', 'http://cacm.acm.org/magazines/2011/7/109891-algorithmic-composition/fulltext', '1', '0', 'poindontcare', '9/26/2016 3:16']\n",
      "['12578979', 'How the Data Vault Enables the Next-Gen Data Warehouse and Data Lake', 'https://www.talend.com/blog/2016/05/12/talend-and-Â\\x93the-data-vaultÂ\\x94', '1', '0', 'markgainor1', '9/26/2016 3:14']\n",
      "Number of rows 293119 Number of Column 7\n"
     ]
    }
   ],
   "source": [
    "explore_data(hn_data,hn_col,data_range=5)"
   ]
  },
  {
   "attachments": {},
   "cell_type": "markdown",
   "metadata": {},
   "source": [
    "Removing Rows with zero comment"
   ]
  },
  {
   "cell_type": "code",
   "execution_count": 6,
   "metadata": {},
   "outputs": [],
   "source": [
    "def zero_remove(dataset,com_index):\n",
    "    list_wo_0 = []\n",
    "    for row in dataset:\n",
    "        zero_com = row[com_index]\n",
    "        if zero_com == \"0\":\n",
    "            pass\n",
    "        else:\n",
    "            list_wo_0.append(row)\n",
    "    return list_wo_0"
   ]
  },
  {
   "cell_type": "code",
   "execution_count": 7,
   "metadata": {},
   "outputs": [],
   "source": [
    "hn_data = zero_remove(hn_data,4)"
   ]
  },
  {
   "cell_type": "code",
   "execution_count": 8,
   "metadata": {},
   "outputs": [
    {
     "name": "stdout",
     "output_type": "stream",
     "text": [
      "Column name\n",
      "['id', 'title', 'url', 'num_points', 'num_comments', 'author', 'created_at']\n",
      "Dataset\n",
      "['12578975', 'Saving the Hassle of Shopping', 'https://blog.menswr.com/2016/09/07/whats-new-with-your-style-feed/', '1', '1', 'bdoux', '9/26/2016 3:13']\n",
      "['12578908', 'Ask HN: What TLD do you use for local development?', '', '4', '7', 'Sevrene', '9/26/2016 2:53']\n",
      "['12578822', 'Amazons Algorithms Dont Find You the Best Deals', 'https://www.technologyreview.com/s/602442/amazons-algorithms-dont-find-you-the-best-deals/', '1', '1', 'yarapavan', '9/26/2016 2:26']\n",
      "['12578694', 'Emergency dose of epinephrine that does not cost an arm and a leg', 'http://m.imgur.com/gallery/th6Ua', '2', '1', 'dredmorbius', '9/26/2016 1:54']\n",
      "['12578624', 'Phone Makers Could Cut Off Drivers. So Why Dont They?', 'http://www.nytimes.com/2016/09/25/technology/phone-makers-could-cut-off-drivers-so-why-dont-they.html', '4', '1', 'danso', '9/26/2016 1:37']\n",
      "['12578556', 'OpenMW, Open Source Elderscrolls III: Morrowind Reimplementation', 'https://openmw.org/en/', '32', '3', 'rocky1138', '9/26/2016 1:24']\n",
      "['12578522', 'Ask HN: How do you pass on your work when you die?', '', '6', '3', 'PascLeRasc', '9/26/2016 1:17']\n",
      "['12578311', 'Americas Lost Boys: Men who choose video games over work', 'https://www.firstthings.com/blogs/firstthoughts/2016/08/americas-lost-boys', '5', '1', 'jseliger', '9/26/2016 0:31']\n",
      "['12578212', 'A Walking Tour of New Yorks Massive Surveillance Network', 'https://theintercept.com/2016/09/24/a-walking-tour-of-new-yorks-massive-surveillance-network/', '7', '1', 'bootload', '9/26/2016 0:06']\n",
      "['12578186', 'Job app website farms my social network links. Illegal, sketchy, or neither?', '', '1', '1', 'macscam', '9/26/2016 0:02']\n",
      "Number of rows 80401 Number of Column 7\n"
     ]
    }
   ],
   "source": [
    "explore_data(hn_data,hn_col,data_range=10)"
   ]
  },
  {
   "attachments": {},
   "cell_type": "markdown",
   "metadata": {},
   "source": [
    "Extracting Ask HN and Show HN Posts"
   ]
  },
  {
   "cell_type": "code",
   "execution_count": 9,
   "metadata": {},
   "outputs": [],
   "source": [
    "def post_classification(dataset,title_index):\n",
    "    ask_posts = []\n",
    "    show_posts = []\n",
    "    other_posts = []\n",
    "\n",
    "    for row in dataset:\n",
    "        title = row[title_index]\n",
    "        if \"ask hn\" in title.lower():\n",
    "            ask_posts.append(row)\n",
    "        elif \"show hn\" in title.lower():\n",
    "            show_posts.append(row)\n",
    "        else:\n",
    "            other_posts.append(row)\n",
    "    return ask_posts,show_posts,other_posts"
   ]
  },
  {
   "cell_type": "code",
   "execution_count": 10,
   "metadata": {},
   "outputs": [],
   "source": [
    "ask_posts,show_posts,other_posts = post_classification(dataset=hn_data,title_index=1)"
   ]
  },
  {
   "cell_type": "code",
   "execution_count": 11,
   "metadata": {},
   "outputs": [
    {
     "data": {
      "text/plain": [
       "6918"
      ]
     },
     "execution_count": 11,
     "metadata": {},
     "output_type": "execute_result"
    }
   ],
   "source": [
    "len(ask_posts)"
   ]
  },
  {
   "cell_type": "code",
   "execution_count": 12,
   "metadata": {},
   "outputs": [
    {
     "data": {
      "text/plain": [
       "5068"
      ]
     },
     "execution_count": 12,
     "metadata": {},
     "output_type": "execute_result"
    }
   ],
   "source": [
    "len(show_posts)"
   ]
  },
  {
   "cell_type": "code",
   "execution_count": 13,
   "metadata": {},
   "outputs": [
    {
     "data": {
      "text/plain": [
       "68415"
      ]
     },
     "execution_count": 13,
     "metadata": {},
     "output_type": "execute_result"
    }
   ],
   "source": [
    "len(other_posts)"
   ]
  },
  {
   "attachments": {},
   "cell_type": "markdown",
   "metadata": {},
   "source": [
    "Number of Comments"
   ]
  },
  {
   "cell_type": "code",
   "execution_count": 14,
   "metadata": {},
   "outputs": [],
   "source": [
    "def comment_count(dataset,comment_index):\n",
    "    total_com = 0\n",
    "    for row in dataset:\n",
    "        comment = int(row[comment_index])\n",
    "        total_com += comment\n",
    "    return total_com"
   ]
  },
  {
   "cell_type": "code",
   "execution_count": 15,
   "metadata": {},
   "outputs": [
    {
     "data": {
      "text/plain": [
       "95000"
      ]
     },
     "execution_count": 15,
     "metadata": {},
     "output_type": "execute_result"
    }
   ],
   "source": [
    "ask_comment = comment_count(ask_posts,4)\n",
    "ask_comment"
   ]
  },
  {
   "cell_type": "code",
   "execution_count": 16,
   "metadata": {},
   "outputs": [
    {
     "data": {
      "text/plain": [
       "49690"
      ]
     },
     "execution_count": 16,
     "metadata": {},
     "output_type": "execute_result"
    }
   ],
   "source": [
    "show_comment = comment_count(show_posts,4) \n",
    "show_comment"
   ]
  },
  {
   "cell_type": "code",
   "execution_count": 17,
   "metadata": {},
   "outputs": [
    {
     "data": {
      "text/plain": [
       "1768071"
      ]
     },
     "execution_count": 17,
     "metadata": {},
     "output_type": "execute_result"
    }
   ],
   "source": [
    "other_comment = comment_count(other_posts,4)\n",
    "other_comment"
   ]
  },
  {
   "attachments": {},
   "cell_type": "markdown",
   "metadata": {},
   "source": [
    "Number of Ask Posts and Comments by Hour Created"
   ]
  },
  {
   "cell_type": "code",
   "execution_count": 18,
   "metadata": {},
   "outputs": [],
   "source": [
    "import datetime as dt"
   ]
  },
  {
   "cell_type": "code",
   "execution_count": 19,
   "metadata": {},
   "outputs": [],
   "source": [
    "def date_transform(dataset,create_index,comment_index):\n",
    "    result_list = []\n",
    "    counts_by_hour = {}\n",
    "    comments_by_hour = {}\n",
    "    time_format = '%m/%d/%Y %H:%M'\n",
    "    for row in dataset:\n",
    "        create_at = row[create_index]\n",
    "        comment = int(row[comment_index])\n",
    "        result_list.append([create_at,comment])\n",
    "    for row in result_list:\n",
    "        date = dt.datetime.strptime(row[0],time_format)\n",
    "        hour = date.strftime(\"%H\")\n",
    "        if hour not in counts_by_hour:\n",
    "            counts_by_hour[hour] = 1\n",
    "            comments_by_hour[hour] = row[1]\n",
    "        else:\n",
    "            counts_by_hour[hour] += 1\n",
    "            comments_by_hour[hour] += row[1]\n",
    "    return counts_by_hour,comments_by_hour"
   ]
  },
  {
   "cell_type": "code",
   "execution_count": 20,
   "metadata": {},
   "outputs": [],
   "source": [
    "counts_by_hour,comments_by_hour = date_transform(ask_posts,6,4)"
   ]
  },
  {
   "cell_type": "code",
   "execution_count": 21,
   "metadata": {},
   "outputs": [
    {
     "data": {
      "text/plain": [
       "{'02': 227,\n",
       " '01': 223,\n",
       " '22': 287,\n",
       " '21': 407,\n",
       " '19': 421,\n",
       " '17': 404,\n",
       " '15': 468,\n",
       " '14': 378,\n",
       " '13': 326,\n",
       " '11': 251,\n",
       " '10': 219,\n",
       " '09': 176,\n",
       " '07': 157,\n",
       " '03': 213,\n",
       " '16': 415,\n",
       " '08': 190,\n",
       " '00': 231,\n",
       " '23': 278,\n",
       " '20': 393,\n",
       " '18': 452,\n",
       " '12': 274,\n",
       " '04': 186,\n",
       " '06': 176,\n",
       " '05': 166}"
      ]
     },
     "execution_count": 21,
     "metadata": {},
     "output_type": "execute_result"
    }
   ],
   "source": [
    "counts_by_hour"
   ]
  },
  {
   "cell_type": "code",
   "execution_count": 22,
   "metadata": {},
   "outputs": [
    {
     "data": {
      "text/plain": [
       "{'02': 2996,\n",
       " '01': 2089,\n",
       " '22': 3372,\n",
       " '21': 4500,\n",
       " '19': 3955,\n",
       " '17': 5547,\n",
       " '15': 18526,\n",
       " '14': 4972,\n",
       " '13': 7245,\n",
       " '11': 2797,\n",
       " '10': 3013,\n",
       " '09': 1477,\n",
       " '07': 1585,\n",
       " '03': 2159,\n",
       " '16': 4466,\n",
       " '08': 2362,\n",
       " '00': 2277,\n",
       " '23': 2300,\n",
       " '20': 4463,\n",
       " '18': 4877,\n",
       " '12': 4234,\n",
       " '04': 2360,\n",
       " '06': 1587,\n",
       " '05': 1841}"
      ]
     },
     "execution_count": 22,
     "metadata": {},
     "output_type": "execute_result"
    }
   ],
   "source": [
    "comments_by_hour"
   ]
  },
  {
   "attachments": {},
   "cell_type": "markdown",
   "metadata": {},
   "source": [
    " Average Number of Comments for Ask HN Posts by Hour"
   ]
  },
  {
   "cell_type": "code",
   "execution_count": 23,
   "metadata": {},
   "outputs": [],
   "source": [
    "def average(ditc_1,dict_2):\n",
    "    average_dict = {}\n",
    "    for key in ditc_1:\n",
    "        average_val = ditc_1[key] / dict_2[key]\n",
    "        average_dict[key] = round(average_val,2)\n",
    "    return average_dict"
   ]
  },
  {
   "cell_type": "code",
   "execution_count": 24,
   "metadata": {},
   "outputs": [],
   "source": [
    "avg_by_hour = average(comments_by_hour,counts_by_hour)"
   ]
  },
  {
   "cell_type": "code",
   "execution_count": 25,
   "metadata": {},
   "outputs": [
    {
     "data": {
      "text/plain": [
       "{'02': 13.2,\n",
       " '01': 9.37,\n",
       " '22': 11.75,\n",
       " '21': 11.06,\n",
       " '19': 9.39,\n",
       " '17': 13.73,\n",
       " '15': 39.59,\n",
       " '14': 13.15,\n",
       " '13': 22.22,\n",
       " '11': 11.14,\n",
       " '10': 13.76,\n",
       " '09': 8.39,\n",
       " '07': 10.1,\n",
       " '03': 10.14,\n",
       " '16': 10.76,\n",
       " '08': 12.43,\n",
       " '00': 9.86,\n",
       " '23': 8.27,\n",
       " '20': 11.36,\n",
       " '18': 10.79,\n",
       " '12': 15.45,\n",
       " '04': 12.69,\n",
       " '06': 9.02,\n",
       " '05': 11.09}"
      ]
     },
     "execution_count": 25,
     "metadata": {},
     "output_type": "execute_result"
    }
   ],
   "source": [
    "avg_by_hour"
   ]
  },
  {
   "attachments": {},
   "cell_type": "markdown",
   "metadata": {},
   "source": [
    "Sorting"
   ]
  },
  {
   "cell_type": "code",
   "execution_count": 26,
   "metadata": {},
   "outputs": [],
   "source": [
    "def display_table(dataset):\n",
    "    display_list = []\n",
    "    for key in dataset:\n",
    "        display_list.append((round(dataset[key],2),key))\n",
    "\n",
    "    return sorted(display_list,reverse= True)"
   ]
  },
  {
   "cell_type": "code",
   "execution_count": 27,
   "metadata": {},
   "outputs": [
    {
     "data": {
      "text/plain": [
       "[(39.59, '15'),\n",
       " (22.22, '13'),\n",
       " (15.45, '12'),\n",
       " (13.76, '10'),\n",
       " (13.73, '17'),\n",
       " (13.2, '02'),\n",
       " (13.15, '14'),\n",
       " (12.69, '04'),\n",
       " (12.43, '08'),\n",
       " (11.75, '22'),\n",
       " (11.36, '20'),\n",
       " (11.14, '11'),\n",
       " (11.09, '05'),\n",
       " (11.06, '21'),\n",
       " (10.79, '18'),\n",
       " (10.76, '16'),\n",
       " (10.14, '03'),\n",
       " (10.1, '07'),\n",
       " (9.86, '00'),\n",
       " (9.39, '19'),\n",
       " (9.37, '01'),\n",
       " (9.02, '06'),\n",
       " (8.39, '09'),\n",
       " (8.27, '23')]"
      ]
     },
     "execution_count": 27,
     "metadata": {},
     "output_type": "execute_result"
    }
   ],
   "source": [
    "display_table(avg_by_hour)"
   ]
  }
 ],
 "metadata": {
  "kernelspec": {
   "display_name": "Python 3",
   "language": "python",
   "name": "python3"
  },
  "language_info": {
   "codemirror_mode": {
    "name": "ipython",
    "version": 3
   },
   "file_extension": ".py",
   "mimetype": "text/x-python",
   "name": "python",
   "nbconvert_exporter": "python",
   "pygments_lexer": "ipython3",
   "version": "3.9.5"
  },
  "orig_nbformat": 4,
  "vscode": {
   "interpreter": {
    "hash": "11758e6afe0e3e9281b41333033aed2fd507b96e5bcab9a0430f0a033492b3ae"
   }
  }
 },
 "nbformat": 4,
 "nbformat_minor": 2
}
